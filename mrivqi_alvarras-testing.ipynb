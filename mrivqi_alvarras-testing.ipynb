{
 "cells": [
  {
   "cell_type": "code",
   "execution_count": 1,
   "metadata": {},
   "outputs": [
    {
     "name": "stderr",
     "output_type": "stream",
     "text": [
      "2024-06-10 19:23:52.390124: I external/local_tsl/tsl/cuda/cudart_stub.cc:32] Could not find cuda drivers on your machine, GPU will not be used.\n",
      "2024-06-10 19:23:52.394702: I external/local_tsl/tsl/cuda/cudart_stub.cc:32] Could not find cuda drivers on your machine, GPU will not be used.\n",
      "2024-06-10 19:23:52.494442: I tensorflow/core/platform/cpu_feature_guard.cc:210] This TensorFlow binary is optimized to use available CPU instructions in performance-critical operations.\n",
      "To enable the following instructions: AVX2 FMA, in other operations, rebuild TensorFlow with the appropriate compiler flags.\n",
      "2024-06-10 19:23:54.013334: W tensorflow/compiler/tf2tensorrt/utils/py_utils.cc:38] TF-TRT Warning: Could not find TensorRT\n"
     ]
    }
   ],
   "source": [
    "import tensorflow as tf\n",
    "import pandas as pd\n",
    "import requests\n",
    "import json\n",
    "import base64\n",
    "import random"
   ]
  },
  {
   "cell_type": "code",
   "execution_count": 2,
   "metadata": {},
   "outputs": [
    {
     "data": {
      "text/plain": [
       "{'age': 58,\n",
       " 'age group': 5,\n",
       " 'eligible': 'Y',\n",
       " 'job': 'management',\n",
       " 'salary': 100000,\n",
       " 'marital': 'married',\n",
       " 'education': 'tertiary',\n",
       " 'marital-education': 'married-tertiary',\n",
       " 'targeted': 'yes',\n",
       " 'default': 'no',\n",
       " 'balance': 2143,\n",
       " 'housing': 'yes',\n",
       " 'loan': 'no',\n",
       " 'contact': 'unknown',\n",
       " 'day': 5,\n",
       " 'month': 'may',\n",
       " 'duration': 261,\n",
       " 'campaign': 1,\n",
       " 'pdays': -1,\n",
       " 'previous': 0,\n",
       " 'poutcome': 'unknown',\n",
       " 'y': 'no'}"
      ]
     },
     "execution_count": 2,
     "metadata": {},
     "output_type": "execute_result"
    }
   ],
   "source": [
    "df = pd.read_csv(\"data/bank_marketing.csv\")\n",
    "df.pop(\"response\")\n",
    "\n",
    "columns = df.columns.values\n",
    "rand = random.randint(0, len(columns))\n",
    "\n",
    "features = df.values[rand]\n",
    "\n",
    "inputs = {key: value for key, value in zip(columns, features)}\n",
    "inputs"
   ]
  },
  {
   "cell_type": "code",
   "execution_count": 3,
   "metadata": {},
   "outputs": [],
   "source": [
    "def string_feature(value):\n",
    "    return tf.train.Feature(\n",
    "        bytes_list=tf.train.BytesList(\n",
    "            value=[bytes(value, \"utf-8\")]\n",
    "        ),\n",
    "    )\n",
    "    \n",
    "def float_feature(value):\n",
    "    return tf.train.Feature(\n",
    "        float_list=tf.train.FloatList(\n",
    "            value=[value]\n",
    "        ),\n",
    "    )\n",
    "    \n",
    "def int_feature(value):\n",
    "    return tf.train.Feature(\n",
    "        int64_list=tf.train.Int64List(\n",
    "            value=[value]\n",
    "        ),\n",
    "    )"
   ]
  },
  {
   "cell_type": "code",
   "execution_count": 4,
   "metadata": {},
   "outputs": [],
   "source": [
    "def prepare_json(inputs: dict):\n",
    "    feature_spec = dict()\n",
    "    \n",
    "    for keys, values in inputs.items():\n",
    "        if isinstance(values, float):\n",
    "            feature_spec[keys] = float_feature(values)\n",
    "        elif isinstance(values, int):\n",
    "            feature_spec[keys] = int_feature(values)\n",
    "        elif isinstance(values, str):\n",
    "            feature_spec[keys] = string_feature(values)\n",
    "            \n",
    "    example = tf.train.Example(\n",
    "        features=tf.train.Features(feature=feature_spec)\n",
    "    ).SerializeToString()\n",
    "        \n",
    "    result = [\n",
    "        {\n",
    "            \"examples\": {\n",
    "                \"b64\": base64.b64encode(example).decode()\n",
    "            }\n",
    "        }\n",
    "    ]\n",
    "    \n",
    "    return json.dumps({\n",
    "        \"signature_name\": \"serving_default\",\n",
    "        \"instances\": result,\n",
    "    })"
   ]
  },
  {
   "cell_type": "code",
   "execution_count": 5,
   "metadata": {},
   "outputs": [],
   "source": [
    "def make_predictions(inputs):\n",
    "    json_data = prepare_json(inputs)\n",
    "    \n",
    "    endpoint = \"https://bank-marketing-production.up.railway.app/v1/models/purchase-model:predict\"\n",
    "    response = requests.post(endpoint, data=json_data)\n",
    "\n",
    "    prediction = response.json()[\"predictions\"][0][0]\n",
    "    \n",
    "    if prediction < 0.6:\n",
    "        return \"Not Purchase\"\n",
    "    else:\n",
    "        return \"Purchase\"\n",
    "    "
   ]
  },
  {
   "cell_type": "code",
   "execution_count": 6,
   "metadata": {},
   "outputs": [
    {
     "data": {
      "text/plain": [
       "'Not Purchase'"
      ]
     },
     "execution_count": 6,
     "metadata": {},
     "output_type": "execute_result"
    }
   ],
   "source": [
    "make_predictions(inputs)"
   ]
  },
  {
   "cell_type": "code",
   "execution_count": null,
   "metadata": {},
   "outputs": [],
   "source": []
  }
 ],
 "metadata": {
  "kernelspec": {
   "display_name": "Python 3",
   "language": "python",
   "name": "python3"
  },
  "language_info": {
   "codemirror_mode": {
    "name": "ipython",
    "version": 3
   },
   "file_extension": ".py",
   "mimetype": "text/x-python",
   "name": "python",
   "nbconvert_exporter": "python",
   "pygments_lexer": "ipython3",
   "version": "3.10.12"
  },
  "orig_nbformat": 4,
  "vscode": {
   "interpreter": {
    "hash": "08e595c52ca3b9470036b1110e67b559e55f367cabc363f2e28d35631ed95060"
   }
  }
 },
 "nbformat": 4,
 "nbformat_minor": 2
}
